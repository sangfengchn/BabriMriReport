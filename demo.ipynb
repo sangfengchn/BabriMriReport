{
 "cells": [
  {
   "cell_type": "code",
   "execution_count": 10,
   "metadata": {},
   "outputs": [
    {
     "data": {
      "text/plain": [
       "(0008, 103e) Series Description                  LO: 't1_mprage_sag_1x1x1_p2_20ch'"
      ]
     },
     "execution_count": 10,
     "metadata": {},
     "output_type": "execute_result"
    }
   ],
   "source": [
    "import pydicom\n",
    "\n",
    "ds = pydicom.dcmread(\"BNUNEW/P0505LIYUMEI/20210730_P10_ZHANGZJ_DXW_LIYUMEI.MR.BNU_P2018_20CH_ZHANG_ZHANJUN.0002.0002.2021.08.01.13.28.26.447444.615048503.IMA\")\n",
    "ds[0x0008, 0x103e]"
   ]
  },
  {
   "cell_type": "code",
   "execution_count": 9,
   "metadata": {},
   "outputs": [
    {
     "data": {
      "text/plain": [
       "(0008, 103e) Series Description                  LO: 't1_mprage_sag_tr1900'"
      ]
     },
     "execution_count": 9,
     "metadata": {},
     "output_type": "execute_result"
    }
   ],
   "source": [
    "ds = pydicom.dcmread(\"BNUOLD/2672LIBIN/20210721_T08_ZHANGZJ_DXW_LIBIN.MR.BNU_CST_2011_ZHANG_ZHANJUN.0003.0003.2021.07.21.17.01.31.375000.196341002.IMA\")\n",
    "ds[0x0008, 0x103e]"
   ]
  },
  {
   "cell_type": "code",
   "execution_count": 8,
   "metadata": {},
   "outputs": [
    {
     "data": {
      "text/plain": [
       "(0008, 103e) Series Description                  LO: 't1_mprage_sag_p2_iso'"
      ]
     },
     "execution_count": 8,
     "metadata": {},
     "output_type": "execute_result"
    }
   ],
   "source": [
    "ds = pydicom.dcmread(\"TTOLD/Tiantan/1-20160428-CHENGWENSHENG/0003_t1_mprage_sag_p2_iso/CHEN_WEN_SHENG.MR.BJ_NEUROSURGINS_YS.0003.0002.2016.04.28.14.28.32.768631.5703840.IMA\")\n",
    "ds[0x0008, 0x103e]"
   ]
  },
  {
   "cell_type": "code",
   "execution_count": 7,
   "metadata": {},
   "outputs": [
    {
     "data": {
      "text/plain": [
       "(0008, 103e) Series Description                  LO: 'Ax 3D BRAVO'"
      ]
     },
     "execution_count": 7,
     "metadata": {},
     "output_type": "execute_result"
    }
   ],
   "source": [
    "ds = pydicom.dcmread(\"TTPETMR/PETMRI/T0338_DANGCHUNXIA_20200118/00005_Ax3DBRAVO/SE8_IM4\")\n",
    "ds[0x0008, 0x103e]"
   ]
  }
 ],
 "metadata": {
  "kernelspec": {
   "display_name": "pyenv",
   "language": "python",
   "name": "python3"
  },
  "language_info": {
   "codemirror_mode": {
    "name": "ipython",
    "version": 3
   },
   "file_extension": ".py",
   "mimetype": "text/x-python",
   "name": "python",
   "nbconvert_exporter": "python",
   "pygments_lexer": "ipython3",
   "version": "3.10.10"
  },
  "orig_nbformat": 4
 },
 "nbformat": 4,
 "nbformat_minor": 2
}
